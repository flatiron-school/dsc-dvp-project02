{
 "cells": [
  {
   "attachments": {},
   "cell_type": "markdown",
   "id": "8f55016a",
   "metadata": {},
   "source": [
    "# Project 2: More Data, More Visualizations"
   ]
  },
  {
   "attachments": {},
   "cell_type": "markdown",
   "id": "b75cfd5d",
   "metadata": {},
   "source": [
    "For this project, the students will:\n",
    "* find a data set of their choosing\n",
    "* get approval from the instructor to use that data set\n",
    "* upon approval, find another (related) data set\n",
    "* join the new data set with the original one to create an \"enriched\" data set\n",
    "* perform an open-ended Exploratory Data Analysis (EDA) on the enriched data set"
   ]
  },
  {
   "attachments": {},
   "cell_type": "markdown",
   "id": "5badf739",
   "metadata": {},
   "source": [
    "Regarding the last bullet, \"open-ended\" means the student chooses the EDA that is performed. The student should have at least three types of data analysis (e.g., mean, standard deviation) and at least three types of graphs (e.g., historgram, bar graph). The student will explain why those variables were chosen for numerical or graphical analysis. Finally, the student will make note of any unusual values for any variable that is analyzed."
   ]
  }
 ],
 "metadata": {
  "kernelspec": {
   "display_name": "learn-env",
   "language": "python",
   "name": "python3"
  },
  "language_info": {
   "codemirror_mode": {
    "name": "ipython",
    "version": 3
   },
   "file_extension": ".py",
   "mimetype": "text/x-python",
   "name": "python",
   "nbconvert_exporter": "python",
   "pygments_lexer": "ipython3",
   "version": "3.8.5"
  }
 },
 "nbformat": 4,
 "nbformat_minor": 5
}
